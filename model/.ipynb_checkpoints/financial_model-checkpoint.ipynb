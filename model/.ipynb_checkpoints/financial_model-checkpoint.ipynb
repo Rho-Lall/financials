{
 "cells": [
  {
   "cell_type": "code",
   "execution_count": 1,
   "id": "4fc541a6-2c2f-42fd-9e5f-a5b6e5638f99",
   "metadata": {},
   "outputs": [],
   "source": [
    "import psycopg2\n",
    "from sqlalchemy import create_engine\n",
    "import pandas as pd\n",
    "import plotly.graph_objects as go\n",
    "from pathlib import Path"
   ]
  },
  {
   "cell_type": "code",
   "execution_count": 3,
   "id": "35c15c01-9266-449b-9743-fa96700e5410",
   "metadata": {},
   "outputs": [],
   "source": [
    "# Database credentials\n",
    "db_host = \"localhost\"      # e.g., \"localhost\" or an IP address\n",
    "db_port = \"5432\"           # Default PostgreSQL port\n",
    "db_name = \"postgres\"  # Database name\n",
    "db_user = \"postgres\"      # PostgreSQL username\n",
    "db_password = \"\"  # PostgreSQL password\n",
    "\n",
    "# Create connection string for psycopg2\n",
    "conn = psycopg2.connect(\n",
    "    host=db_host,\n",
    "    port=db_port,\n",
    "    database=db_name,\n",
    "    user=db_user,\n",
    "    password=db_password\n",
    ")\n",
    "\n",
    "# Create a SQLAlchemy engine (useful for pandas)\n",
    "engine = create_engine(f\"postgresql+psycopg2://{db_user}:{db_password}@{db_host}:{db_port}/{db_name}\")\n"
   ]
  },
  {
   "cell_type": "code",
   "execution_count": 4,
   "id": "cd8577e7-8a4f-419a-9c38-7af64329ef7d",
   "metadata": {},
   "outputs": [],
   "source": [
    "def pull_data(source_table):\n",
    "    query = \"SELECT * FROM \" + source_table +\";\"\n",
    "    df = pd.read_sql(query, engine)\n",
    "    return df"
   ]
  },
  {
   "cell_type": "code",
   "execution_count": null,
   "id": "fd371caa-7415-453b-ab38-520ab7f5226f",
   "metadata": {},
   "outputs": [],
   "source": [
    "df_bs = pull_data('transform.amzn_balance_sheets')\n",
    "df_bs.head()"
   ]
  },
  {
   "cell_type": "code",
   "execution_count": null,
   "id": "4054ea2a-0ae7-46e7-923d-63e16f45d76a",
   "metadata": {},
   "outputs": [],
   "source": [
    "df_is = pull_data('transform.amzn_income_statements')\n",
    "df_is.head()"
   ]
  },
  {
   "cell_type": "code",
   "execution_count": 6,
   "id": "ac97cca2-0893-4fba-83a5-4b3ece556071",
   "metadata": {},
   "outputs": [
    {
     "data": {
      "text/html": [
       "<div>\n",
       "<style scoped>\n",
       "    .dataframe tbody tr th:only-of-type {\n",
       "        vertical-align: middle;\n",
       "    }\n",
       "\n",
       "    .dataframe tbody tr th {\n",
       "        vertical-align: top;\n",
       "    }\n",
       "\n",
       "    .dataframe thead th {\n",
       "        text-align: right;\n",
       "    }\n",
       "</style>\n",
       "<table border=\"1\" class=\"dataframe\">\n",
       "  <thead>\n",
       "    <tr style=\"text-align: right;\">\n",
       "      <th></th>\n",
       "      <th>gl_number</th>\n",
       "      <th>gl_account</th>\n",
       "      <th>2020-12-31</th>\n",
       "      <th>2021-12-31</th>\n",
       "      <th>2022-12-31</th>\n",
       "      <th>2023-12-31</th>\n",
       "      <th>2024-09-30</th>\n",
       "    </tr>\n",
       "  </thead>\n",
       "  <tbody>\n",
       "    <tr>\n",
       "      <th>0</th>\n",
       "      <td>1700</td>\n",
       "      <td>Net cash provided by operating activities</td>\n",
       "      <td>6.606400e+10</td>\n",
       "      <td>4.632700e+10</td>\n",
       "      <td>4.675200e+10</td>\n",
       "      <td>8.494600e+10</td>\n",
       "      <td>7.024100e+10</td>\n",
       "    </tr>\n",
       "    <tr>\n",
       "      <th>1</th>\n",
       "      <td>1710</td>\n",
       "      <td>Net income (loss)</td>\n",
       "      <td>2.133100e+10</td>\n",
       "      <td>3.336400e+10</td>\n",
       "      <td>-2.722000e+09</td>\n",
       "      <td>3.042500e+10</td>\n",
       "      <td>3.924400e+10</td>\n",
       "    </tr>\n",
       "    <tr>\n",
       "      <th>2</th>\n",
       "      <td>1720</td>\n",
       "      <td>Depreciation and amortization</td>\n",
       "      <td>2.525100e+10</td>\n",
       "      <td>3.443300e+10</td>\n",
       "      <td>4.192100e+10</td>\n",
       "      <td>4.866300e+10</td>\n",
       "      <td>3.716400e+10</td>\n",
       "    </tr>\n",
       "    <tr>\n",
       "      <th>3</th>\n",
       "      <td>1730</td>\n",
       "      <td>Stock-based compensation</td>\n",
       "      <td>9.208000e+09</td>\n",
       "      <td>1.275700e+10</td>\n",
       "      <td>1.962100e+10</td>\n",
       "      <td>2.402300e+10</td>\n",
       "      <td>1.701600e+10</td>\n",
       "    </tr>\n",
       "    <tr>\n",
       "      <th>4</th>\n",
       "      <td>1740</td>\n",
       "      <td>Deferred tax expense (benefit)</td>\n",
       "      <td>-5.540000e+08</td>\n",
       "      <td>-3.100000e+08</td>\n",
       "      <td>-8.148000e+09</td>\n",
       "      <td>-5.876000e+09</td>\n",
       "      <td>-3.040000e+09</td>\n",
       "    </tr>\n",
       "  </tbody>\n",
       "</table>\n",
       "</div>"
      ],
      "text/plain": [
       "   gl_number                                 gl_account    2020-12-31  \\\n",
       "0       1700  Net cash provided by operating activities  6.606400e+10   \n",
       "1       1710                          Net income (loss)  2.133100e+10   \n",
       "2       1720              Depreciation and amortization  2.525100e+10   \n",
       "3       1730                   Stock-based compensation  9.208000e+09   \n",
       "4       1740             Deferred tax expense (benefit) -5.540000e+08   \n",
       "\n",
       "     2021-12-31    2022-12-31    2023-12-31    2024-09-30  \n",
       "0  4.632700e+10  4.675200e+10  8.494600e+10  7.024100e+10  \n",
       "1  3.336400e+10 -2.722000e+09  3.042500e+10  3.924400e+10  \n",
       "2  3.443300e+10  4.192100e+10  4.866300e+10  3.716400e+10  \n",
       "3  1.275700e+10  1.962100e+10  2.402300e+10  1.701600e+10  \n",
       "4 -3.100000e+08 -8.148000e+09 -5.876000e+09 -3.040000e+09  "
      ]
     },
     "execution_count": 6,
     "metadata": {},
     "output_type": "execute_result"
    }
   ],
   "source": [
    "df_cf = pull_data('transform.amzn_cashflow_statements')\n",
    "df_cf.head()"
   ]
  },
  {
   "cell_type": "code",
   "execution_count": 7,
   "id": "900e4870-685c-4db3-a826-57f25c15610e",
   "metadata": {},
   "outputs": [],
   "source": [
    "def melt_data(df_name):\n",
    "    # Melt the dataframe to long format\n",
    "    df_long = df_name.melt(id_vars=[\"gl_number\", \"gl_account\"], var_name=\"quarter\", value_name=\"amount\")\n",
    "    return df_long"
   ]
  },
  {
   "cell_type": "code",
   "execution_count": null,
   "id": "9ccd44e5-f2c5-4aa6-85e5-b2cfdf65b937",
   "metadata": {},
   "outputs": [],
   "source": [
    "df_is_long = melt_data(df_is)\n",
    "df_is_long.head()"
   ]
  },
  {
   "cell_type": "code",
   "execution_count": null,
   "id": "d37cdd2d-b2a5-4e66-a6b0-e7a665b421b1",
   "metadata": {},
   "outputs": [],
   "source": [
    "df_bs_long = melt_data(df_bs)\n",
    "df_bs_long.head()"
   ]
  },
  {
   "cell_type": "code",
   "execution_count": 8,
   "id": "1c63e2fe-109d-4836-82c7-bc96d16fc6ee",
   "metadata": {},
   "outputs": [
    {
     "data": {
      "text/html": [
       "<div>\n",
       "<style scoped>\n",
       "    .dataframe tbody tr th:only-of-type {\n",
       "        vertical-align: middle;\n",
       "    }\n",
       "\n",
       "    .dataframe tbody tr th {\n",
       "        vertical-align: top;\n",
       "    }\n",
       "\n",
       "    .dataframe thead th {\n",
       "        text-align: right;\n",
       "    }\n",
       "</style>\n",
       "<table border=\"1\" class=\"dataframe\">\n",
       "  <thead>\n",
       "    <tr style=\"text-align: right;\">\n",
       "      <th></th>\n",
       "      <th>gl_number</th>\n",
       "      <th>gl_account</th>\n",
       "      <th>quarter</th>\n",
       "      <th>amount</th>\n",
       "    </tr>\n",
       "  </thead>\n",
       "  <tbody>\n",
       "    <tr>\n",
       "      <th>0</th>\n",
       "      <td>1700</td>\n",
       "      <td>Net cash provided by operating activities</td>\n",
       "      <td>2020-12-31</td>\n",
       "      <td>6.606400e+10</td>\n",
       "    </tr>\n",
       "    <tr>\n",
       "      <th>1</th>\n",
       "      <td>1710</td>\n",
       "      <td>Net income (loss)</td>\n",
       "      <td>2020-12-31</td>\n",
       "      <td>2.133100e+10</td>\n",
       "    </tr>\n",
       "    <tr>\n",
       "      <th>2</th>\n",
       "      <td>1720</td>\n",
       "      <td>Depreciation and amortization</td>\n",
       "      <td>2020-12-31</td>\n",
       "      <td>2.525100e+10</td>\n",
       "    </tr>\n",
       "    <tr>\n",
       "      <th>3</th>\n",
       "      <td>1730</td>\n",
       "      <td>Stock-based compensation</td>\n",
       "      <td>2020-12-31</td>\n",
       "      <td>9.208000e+09</td>\n",
       "    </tr>\n",
       "    <tr>\n",
       "      <th>4</th>\n",
       "      <td>1740</td>\n",
       "      <td>Deferred tax expense (benefit)</td>\n",
       "      <td>2020-12-31</td>\n",
       "      <td>-5.540000e+08</td>\n",
       "    </tr>\n",
       "  </tbody>\n",
       "</table>\n",
       "</div>"
      ],
      "text/plain": [
       "   gl_number                                 gl_account     quarter  \\\n",
       "0       1700  Net cash provided by operating activities  2020-12-31   \n",
       "1       1710                          Net income (loss)  2020-12-31   \n",
       "2       1720              Depreciation and amortization  2020-12-31   \n",
       "3       1730                   Stock-based compensation  2020-12-31   \n",
       "4       1740             Deferred tax expense (benefit)  2020-12-31   \n",
       "\n",
       "         amount  \n",
       "0  6.606400e+10  \n",
       "1  2.133100e+10  \n",
       "2  2.525100e+10  \n",
       "3  9.208000e+09  \n",
       "4 -5.540000e+08  "
      ]
     },
     "execution_count": 8,
     "metadata": {},
     "output_type": "execute_result"
    }
   ],
   "source": [
    "df_cf_long = melt_data(df_cf)\n",
    "df_cf_long.head()"
   ]
  },
  {
   "cell_type": "code",
   "execution_count": 9,
   "id": "a6f7edff-a4c9-4529-b279-6074485229b9",
   "metadata": {},
   "outputs": [],
   "source": [
    "def export(df_name, file_name):\n",
    "    file_path_name = '/Volumes/stageTB/stage/' + file_name + '.csv'\n",
    "    file_path = Path(file_path_name)\n",
    "    df_name.to_csv(file_path, index=False)\n",
    "    return 'done'"
   ]
  },
  {
   "cell_type": "code",
   "execution_count": null,
   "id": "ad3dd0af-bd80-4cf6-bf21-06769109d547",
   "metadata": {},
   "outputs": [],
   "source": [
    "export(df_is_long,'amzn_income_statements_long')"
   ]
  },
  {
   "cell_type": "code",
   "execution_count": null,
   "id": "c8ea386a-2c75-4f23-a3a5-c7061ab8bc3c",
   "metadata": {},
   "outputs": [],
   "source": [
    "export(df_bs_long,'amzn_balance_sheets_long')"
   ]
  },
  {
   "cell_type": "code",
   "execution_count": 11,
   "id": "9bae4d9c-dc1d-47b6-82f2-a2f732841bfd",
   "metadata": {},
   "outputs": [
    {
     "data": {
      "text/plain": [
       "'done'"
      ]
     },
     "execution_count": 11,
     "metadata": {},
     "output_type": "execute_result"
    }
   ],
   "source": [
    "export(df_cf_long,'amzn_cashflow_statements_long')"
   ]
  }
 ],
 "metadata": {
  "kernelspec": {
   "display_name": "Python 3 (ipykernel)",
   "language": "python",
   "name": "python3"
  },
  "language_info": {
   "codemirror_mode": {
    "name": "ipython",
    "version": 3
   },
   "file_extension": ".py",
   "mimetype": "text/x-python",
   "name": "python",
   "nbconvert_exporter": "python",
   "pygments_lexer": "ipython3",
   "version": "3.12.4"
  }
 },
 "nbformat": 4,
 "nbformat_minor": 5
}
